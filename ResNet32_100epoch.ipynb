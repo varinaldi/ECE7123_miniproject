{
  "cells": [
    {
      "cell_type": "code",
      "execution_count": 10,
      "metadata": {
        "colab": {
          "base_uri": "https://localhost:8080/"
        },
        "id": "Eumwdi5HSC78",
        "outputId": "b481064e-5462-4ce5-92fe-550e0eb9f229"
      },
      "outputs": [
        {
          "ename": "ModuleNotFoundError",
          "evalue": "No module named 'google'",
          "output_type": "error",
          "traceback": [
            "\u001b[0;31m---------------------------------------------------------------------------\u001b[0m",
            "\u001b[0;31mModuleNotFoundError\u001b[0m                       Traceback (most recent call last)",
            "Cell \u001b[0;32mIn[10], line 1\u001b[0m\n\u001b[0;32m----> 1\u001b[0m \u001b[39mfrom\u001b[39;00m \u001b[39mgoogle\u001b[39;00m\u001b[39m.\u001b[39;00m\u001b[39mcolab\u001b[39;00m \u001b[39mimport\u001b[39;00m drive\n\u001b[1;32m      2\u001b[0m drive\u001b[39m.\u001b[39mmount(\u001b[39m'\u001b[39m\u001b[39m/content/drive/\u001b[39m\u001b[39m'\u001b[39m)\n\u001b[1;32m      3\u001b[0m get_ipython()\u001b[39m.\u001b[39mrun_line_magic(\u001b[39m'\u001b[39m\u001b[39mcd\u001b[39m\u001b[39m'\u001b[39m, \u001b[39m'\u001b[39m\u001b[39mdrive/MyDrive/resnet_miniproject/\u001b[39m\u001b[39m'\u001b[39m)\n",
            "\u001b[0;31mModuleNotFoundError\u001b[0m: No module named 'google'"
          ]
        }
      ],
      "source": [
        "from google.colab import drive\n",
        "drive.mount('/content/drive/')\n",
        "%cd drive/MyDrive/resnet_miniproject/"
      ]
    },
    {
      "cell_type": "code",
      "execution_count": null,
      "metadata": {
        "colab": {
          "base_uri": "https://localhost:8080/"
        },
        "id": "xg1NxvcMR_4R",
        "outputId": "220e8f36-2a09-4ef3-ef43-81b1863997e0"
      },
      "outputs": [
        {
          "name": "stdout",
          "output_type": "stream",
          "text": [
            "Files already downloaded and verified\n",
            "Files already downloaded and verified\n",
            "Files already downloaded and verified\n"
          ]
        }
      ],
      "source": [
        "import torch\n",
        "import torch.nn as nn\n",
        "import torch.nn.functional as F\n",
        "import torch.optim as optim\n",
        "from torch.utils.data import DataLoader\n",
        "\n",
        "import torchvision.transforms as transforms\n",
        "import torchvision.datasets as datasets\n",
        "import torch.utils.data as data\n",
        "\n",
        "from model import ResidualBlock, ResNet\n",
        "from train_eval_util import train, evaluate, calculate_accuracy, epoch_time, total_params, total_layers, get_predictions, plot_confusion_matrix\n",
        "from dataset import train_data, valid_data, test_data\n",
        "\n",
        "import time\n",
        "import numpy as np \n",
        "import matplotlib.pyplot as plt"
      ]
    },
    {
      "cell_type": "code",
      "execution_count": null,
      "metadata": {
        "colab": {
          "base_uri": "https://localhost:8080/"
        },
        "id": "53ycN3jjR_4V",
        "outputId": "b87a37e8-be23-4c69-c317-ecd54d5eb37c"
      },
      "outputs": [
        {
          "name": "stdout",
          "output_type": "stream",
          "text": [
            "Selected device: cuda\n"
          ]
        }
      ],
      "source": [
        "if torch.cuda.is_available():\n",
        "    device = torch.device('cuda')\n",
        "elif torch.backends.mps.is_available():\n",
        "    device = torch.device('mps')  \n",
        "else:\n",
        "    device = torch.device('cpu')\n",
        "\n",
        "print(f\"Selected device: {device}\")"
      ]
    },
    {
      "cell_type": "code",
      "execution_count": null,
      "metadata": {
        "id": "YcpqKQZrR_4V"
      },
      "outputs": [],
      "source": [
        "BATCH_SIZE = 32\n",
        "\n",
        "train_iterator = DataLoader(train_data, batch_size= BATCH_SIZE, shuffle=True)\n",
        "valid_iterator =  DataLoader(valid_data, batch_size=BATCH_SIZE, shuffle=False)\n",
        "test_iterator =  DataLoader(test_data, batch_size=BATCH_SIZE, shuffle=True)"
      ]
    },
    {
      "cell_type": "code",
      "execution_count": null,
      "metadata": {
        "colab": {
          "base_uri": "https://localhost:8080/"
        },
        "id": "y-4HfJjzR_4V",
        "outputId": "cdc818d7-727f-4a9a-94a9-6052793472b2"
      },
      "outputs": [
        {
          "name": "stdout",
          "output_type": "stream",
          "text": [
            "Total number of layers: 32\n",
            "Total number of parameters: 466906\n"
          ]
        }
      ],
      "source": [
        "model = ResNet(ResidualBlock, [5, 5, 5]).to(device)\n",
        "\n",
        "print(f\"Total number of layers: {total_layers(model)}\")\n",
        "print(f\"Total number of parameters: {total_params(model)}\")\n",
        "\n",
        "from torchsummary import summary\n",
        "# summary(model)"
      ]
    },
    {
      "cell_type": "code",
      "execution_count": null,
      "metadata": {
        "colab": {
          "base_uri": "https://localhost:8080/"
        },
        "id": "I20PPj8BR_4W",
        "outputId": "3ff1524b-7f80-48fa-f494-510297bd69d3"
      },
      "outputs": [
        {
          "name": "stdout",
          "output_type": "stream",
          "text": [
            "Epoch: 01 | Epoch Time: 0m 58s\n",
            "\tTrain Loss: 1.500 | Train Acc: 44.46% | LR: 0.001000\n",
            "\t Val. Loss: 1.299 |  Val. Acc: 54.42%\n",
            "Epoch: 02 | Epoch Time: 0m 49s\n",
            "\tTrain Loss: 1.047 | Train Acc: 62.98% | LR: 0.000999\n",
            "\t Val. Loss: 0.940 |  Val. Acc: 66.58%\n",
            "Epoch: 03 | Epoch Time: 0m 48s\n",
            "\tTrain Loss: 0.857 | Train Acc: 70.04% | LR: 0.000998\n",
            "\t Val. Loss: 0.971 |  Val. Acc: 66.34%\n",
            "Epoch: 04 | Epoch Time: 0m 48s\n",
            "\tTrain Loss: 0.752 | Train Acc: 73.75% | LR: 0.000996\n",
            "\t Val. Loss: 0.717 |  Val. Acc: 75.88%\n",
            "Epoch: 05 | Epoch Time: 0m 47s\n",
            "\tTrain Loss: 0.680 | Train Acc: 76.43% | LR: 0.000994\n",
            "\t Val. Loss: 0.647 |  Val. Acc: 77.63%\n",
            "Epoch: 06 | Epoch Time: 0m 48s\n",
            "\tTrain Loss: 0.626 | Train Acc: 78.25% | LR: 0.000991\n",
            "\t Val. Loss: 0.651 |  Val. Acc: 77.75%\n",
            "Epoch: 07 | Epoch Time: 0m 48s\n",
            "\tTrain Loss: 0.588 | Train Acc: 79.66% | LR: 0.000988\n",
            "\t Val. Loss: 0.601 |  Val. Acc: 79.34%\n",
            "Epoch: 08 | Epoch Time: 0m 48s\n",
            "\tTrain Loss: 0.554 | Train Acc: 80.90% | LR: 0.000984\n",
            "\t Val. Loss: 0.587 |  Val. Acc: 79.88%\n",
            "Epoch: 09 | Epoch Time: 0m 46s\n",
            "\tTrain Loss: 0.520 | Train Acc: 82.21% | LR: 0.000980\n",
            "\t Val. Loss: 0.568 |  Val. Acc: 80.43%\n",
            "Epoch: 10 | Epoch Time: 0m 48s\n",
            "\tTrain Loss: 0.495 | Train Acc: 83.00% | LR: 0.000976\n",
            "\t Val. Loss: 0.559 |  Val. Acc: 80.91%\n",
            "Epoch: 11 | Epoch Time: 0m 46s\n",
            "\tTrain Loss: 0.477 | Train Acc: 83.69% | LR: 0.000970\n",
            "\t Val. Loss: 0.531 |  Val. Acc: 82.36%\n",
            "Epoch: 12 | Epoch Time: 0m 47s\n",
            "\tTrain Loss: 0.452 | Train Acc: 84.39% | LR: 0.000965\n",
            "\t Val. Loss: 0.541 |  Val. Acc: 81.81%\n",
            "Epoch: 13 | Epoch Time: 0m 46s\n",
            "\tTrain Loss: 0.436 | Train Acc: 84.90% | LR: 0.000959\n",
            "\t Val. Loss: 0.501 |  Val. Acc: 83.86%\n",
            "Epoch: 14 | Epoch Time: 0m 48s\n",
            "\tTrain Loss: 0.422 | Train Acc: 85.57% | LR: 0.000952\n",
            "\t Val. Loss: 0.500 |  Val. Acc: 82.84%\n",
            "Epoch: 15 | Epoch Time: 0m 47s\n",
            "\tTrain Loss: 0.408 | Train Acc: 85.89% | LR: 0.000946\n",
            "\t Val. Loss: 0.503 |  Val. Acc: 83.32%\n",
            "Epoch: 16 | Epoch Time: 0m 47s\n",
            "\tTrain Loss: 0.391 | Train Acc: 86.60% | LR: 0.000938\n",
            "\t Val. Loss: 0.451 |  Val. Acc: 85.13%\n",
            "Epoch: 17 | Epoch Time: 0m 47s\n",
            "\tTrain Loss: 0.377 | Train Acc: 86.83% | LR: 0.000930\n",
            "\t Val. Loss: 0.423 |  Val. Acc: 86.07%\n",
            "Epoch: 18 | Epoch Time: 0m 48s\n",
            "\tTrain Loss: 0.367 | Train Acc: 87.41% | LR: 0.000922\n",
            "\t Val. Loss: 0.417 |  Val. Acc: 86.05%\n",
            "Epoch: 19 | Epoch Time: 0m 46s\n",
            "\tTrain Loss: 0.361 | Train Acc: 87.58% | LR: 0.000914\n",
            "\t Val. Loss: 0.439 |  Val. Acc: 85.21%\n",
            "Epoch: 20 | Epoch Time: 0m 48s\n",
            "\tTrain Loss: 0.349 | Train Acc: 88.11% | LR: 0.000905\n",
            "\t Val. Loss: 0.446 |  Val. Acc: 85.15%\n",
            "Epoch: 21 | Epoch Time: 0m 46s\n",
            "\tTrain Loss: 0.339 | Train Acc: 88.32% | LR: 0.000895\n",
            "\t Val. Loss: 0.403 |  Val. Acc: 86.35%\n",
            "Epoch: 22 | Epoch Time: 0m 48s\n",
            "\tTrain Loss: 0.328 | Train Acc: 88.67% | LR: 0.000885\n",
            "\t Val. Loss: 0.416 |  Val. Acc: 86.25%\n",
            "Epoch: 23 | Epoch Time: 0m 46s\n",
            "\tTrain Loss: 0.321 | Train Acc: 88.94% | LR: 0.000875\n",
            "\t Val. Loss: 0.461 |  Val. Acc: 84.83%\n",
            "Epoch: 24 | Epoch Time: 0m 48s\n",
            "\tTrain Loss: 0.317 | Train Acc: 89.06% | LR: 0.000864\n",
            "\t Val. Loss: 0.380 |  Val. Acc: 87.24%\n",
            "Epoch: 25 | Epoch Time: 0m 46s\n",
            "\tTrain Loss: 0.305 | Train Acc: 89.59% | LR: 0.000854\n",
            "\t Val. Loss: 0.362 |  Val. Acc: 88.28%\n",
            "Epoch: 26 | Epoch Time: 0m 48s\n",
            "\tTrain Loss: 0.296 | Train Acc: 89.81% | LR: 0.000842\n",
            "\t Val. Loss: 0.395 |  Val. Acc: 87.00%\n",
            "Epoch: 27 | Epoch Time: 0m 47s\n",
            "\tTrain Loss: 0.293 | Train Acc: 89.93% | LR: 0.000831\n",
            "\t Val. Loss: 0.378 |  Val. Acc: 87.52%\n",
            "Epoch: 28 | Epoch Time: 0m 47s\n",
            "\tTrain Loss: 0.282 | Train Acc: 90.29% | LR: 0.000819\n",
            "\t Val. Loss: 0.407 |  Val. Acc: 86.41%\n",
            "Epoch: 29 | Epoch Time: 0m 47s\n",
            "\tTrain Loss: 0.275 | Train Acc: 90.46% | LR: 0.000806\n",
            "\t Val. Loss: 0.426 |  Val. Acc: 86.35%\n",
            "Epoch: 30 | Epoch Time: 0m 47s\n",
            "\tTrain Loss: 0.270 | Train Acc: 90.75% | LR: 0.000794\n",
            "\t Val. Loss: 0.421 |  Val. Acc: 86.11%\n",
            "Epoch: 31 | Epoch Time: 0m 46s\n",
            "\tTrain Loss: 0.264 | Train Acc: 90.81% | LR: 0.000781\n",
            "\t Val. Loss: 0.372 |  Val. Acc: 88.06%\n",
            "Epoch: 32 | Epoch Time: 0m 47s\n",
            "\tTrain Loss: 0.259 | Train Acc: 91.04% | LR: 0.000768\n",
            "\t Val. Loss: 0.393 |  Val. Acc: 87.36%\n",
            "Epoch: 33 | Epoch Time: 0m 47s\n",
            "\tTrain Loss: 0.252 | Train Acc: 91.11% | LR: 0.000755\n",
            "\t Val. Loss: 0.358 |  Val. Acc: 88.08%\n",
            "Epoch: 34 | Epoch Time: 0m 48s\n",
            "\tTrain Loss: 0.245 | Train Acc: 91.42% | LR: 0.000741\n",
            "\t Val. Loss: 0.365 |  Val. Acc: 88.38%\n",
            "Epoch: 35 | Epoch Time: 0m 47s\n",
            "\tTrain Loss: 0.237 | Train Acc: 91.72% | LR: 0.000727\n",
            "\t Val. Loss: 0.354 |  Val. Acc: 88.42%\n",
            "Epoch: 36 | Epoch Time: 0m 48s\n",
            "\tTrain Loss: 0.236 | Train Acc: 91.73% | LR: 0.000713\n",
            "\t Val. Loss: 0.350 |  Val. Acc: 88.59%\n",
            "Epoch: 37 | Epoch Time: 0m 46s\n",
            "\tTrain Loss: 0.229 | Train Acc: 92.04% | LR: 0.000699\n",
            "\t Val. Loss: 0.363 |  Val. Acc: 88.63%\n",
            "Epoch: 38 | Epoch Time: 0m 48s\n",
            "\tTrain Loss: 0.220 | Train Acc: 92.35% | LR: 0.000684\n",
            "\t Val. Loss: 0.360 |  Val. Acc: 88.42%\n",
            "Epoch: 39 | Epoch Time: 0m 47s\n",
            "\tTrain Loss: 0.216 | Train Acc: 92.47% | LR: 0.000669\n",
            "\t Val. Loss: 0.346 |  Val. Acc: 88.95%\n",
            "Epoch: 40 | Epoch Time: 0m 48s\n",
            "\tTrain Loss: 0.207 | Train Acc: 92.78% | LR: 0.000655\n",
            "\t Val. Loss: 0.392 |  Val. Acc: 87.40%\n",
            "Epoch: 41 | Epoch Time: 0m 47s\n",
            "\tTrain Loss: 0.204 | Train Acc: 92.91% | LR: 0.000639\n",
            "\t Val. Loss: 0.382 |  Val. Acc: 88.04%\n",
            "Epoch: 42 | Epoch Time: 0m 48s\n",
            "\tTrain Loss: 0.203 | Train Acc: 92.89% | LR: 0.000624\n",
            "\t Val. Loss: 0.355 |  Val. Acc: 88.97%\n",
            "Epoch: 43 | Epoch Time: 0m 46s\n",
            "\tTrain Loss: 0.197 | Train Acc: 93.13% | LR: 0.000609\n",
            "\t Val. Loss: 0.364 |  Val. Acc: 88.91%\n",
            "Epoch: 44 | Epoch Time: 0m 48s\n",
            "\tTrain Loss: 0.191 | Train Acc: 93.34% | LR: 0.000594\n",
            "\t Val. Loss: 0.351 |  Val. Acc: 88.69%\n",
            "Epoch: 45 | Epoch Time: 0m 47s\n",
            "\tTrain Loss: 0.187 | Train Acc: 93.38% | LR: 0.000578\n",
            "\t Val. Loss: 0.340 |  Val. Acc: 89.37%\n",
            "Epoch: 46 | Epoch Time: 0m 48s\n",
            "\tTrain Loss: 0.180 | Train Acc: 93.63% | LR: 0.000563\n",
            "\t Val. Loss: 0.351 |  Val. Acc: 88.79%\n",
            "Epoch: 47 | Epoch Time: 0m 47s\n",
            "\tTrain Loss: 0.176 | Train Acc: 93.76% | LR: 0.000547\n",
            "\t Val. Loss: 0.349 |  Val. Acc: 89.13%\n",
            "Epoch: 48 | Epoch Time: 0m 48s\n",
            "\tTrain Loss: 0.169 | Train Acc: 94.05% | LR: 0.000531\n",
            "\t Val. Loss: 0.351 |  Val. Acc: 89.21%\n",
            "Epoch: 49 | Epoch Time: 0m 47s\n",
            "\tTrain Loss: 0.162 | Train Acc: 94.42% | LR: 0.000516\n",
            "\t Val. Loss: 0.341 |  Val. Acc: 89.29%\n",
            "Epoch: 50 | Epoch Time: 0m 47s\n",
            "\tTrain Loss: 0.159 | Train Acc: 94.39% | LR: 0.000500\n",
            "\t Val. Loss: 0.332 |  Val. Acc: 89.63%\n",
            "Epoch: 51 | Epoch Time: 0m 47s\n",
            "\tTrain Loss: 0.151 | Train Acc: 94.60% | LR: 0.000484\n",
            "\t Val. Loss: 0.357 |  Val. Acc: 89.35%\n",
            "Epoch: 52 | Epoch Time: 0m 48s\n",
            "\tTrain Loss: 0.153 | Train Acc: 94.62% | LR: 0.000469\n",
            "\t Val. Loss: 0.337 |  Val. Acc: 89.69%\n",
            "Epoch: 53 | Epoch Time: 0m 47s\n",
            "\tTrain Loss: 0.144 | Train Acc: 94.83% | LR: 0.000453\n",
            "\t Val. Loss: 0.337 |  Val. Acc: 89.83%\n",
            "Epoch: 54 | Epoch Time: 0m 48s\n",
            "\tTrain Loss: 0.140 | Train Acc: 95.06% | LR: 0.000437\n",
            "\t Val. Loss: 0.353 |  Val. Acc: 89.73%\n",
            "Epoch: 55 | Epoch Time: 0m 47s\n",
            "\tTrain Loss: 0.133 | Train Acc: 95.28% | LR: 0.000422\n",
            "\t Val. Loss: 0.364 |  Val. Acc: 89.41%\n",
            "Epoch: 56 | Epoch Time: 0m 48s\n",
            "\tTrain Loss: 0.130 | Train Acc: 95.30% | LR: 0.000406\n",
            "\t Val. Loss: 0.352 |  Val. Acc: 89.85%\n",
            "Epoch: 57 | Epoch Time: 0m 47s\n",
            "\tTrain Loss: 0.127 | Train Acc: 95.52% | LR: 0.000391\n",
            "\t Val. Loss: 0.337 |  Val. Acc: 89.87%\n",
            "Epoch: 58 | Epoch Time: 0m 48s\n",
            "\tTrain Loss: 0.121 | Train Acc: 95.76% | LR: 0.000376\n",
            "\t Val. Loss: 0.332 |  Val. Acc: 89.91%\n",
            "Epoch: 59 | Epoch Time: 0m 46s\n",
            "\tTrain Loss: 0.113 | Train Acc: 96.12% | LR: 0.000361\n",
            "\t Val. Loss: 0.352 |  Val. Acc: 89.83%\n",
            "Epoch: 60 | Epoch Time: 0m 47s\n",
            "\tTrain Loss: 0.111 | Train Acc: 96.16% | LR: 0.000345\n",
            "\t Val. Loss: 0.356 |  Val. Acc: 89.87%\n",
            "Epoch: 61 | Epoch Time: 0m 46s\n",
            "\tTrain Loss: 0.103 | Train Acc: 96.36% | LR: 0.000331\n",
            "\t Val. Loss: 0.355 |  Val. Acc: 90.45%\n",
            "Epoch: 62 | Epoch Time: 0m 47s\n",
            "\tTrain Loss: 0.104 | Train Acc: 96.30% | LR: 0.000316\n",
            "\t Val. Loss: 0.358 |  Val. Acc: 89.65%\n",
            "Epoch: 63 | Epoch Time: 0m 50s\n",
            "\tTrain Loss: 0.098 | Train Acc: 96.58% | LR: 0.000301\n",
            "\t Val. Loss: 0.345 |  Val. Acc: 90.41%\n",
            "Epoch: 64 | Epoch Time: 0m 49s\n",
            "\tTrain Loss: 0.091 | Train Acc: 96.87% | LR: 0.000287\n",
            "\t Val. Loss: 0.370 |  Val. Acc: 89.85%\n",
            "Epoch: 65 | Epoch Time: 0m 48s\n",
            "\tTrain Loss: 0.089 | Train Acc: 96.89% | LR: 0.000273\n",
            "\t Val. Loss: 0.348 |  Val. Acc: 90.29%\n",
            "Epoch: 66 | Epoch Time: 0m 47s\n",
            "\tTrain Loss: 0.085 | Train Acc: 97.05% | LR: 0.000259\n",
            "\t Val. Loss: 0.358 |  Val. Acc: 89.99%\n",
            "Epoch: 67 | Epoch Time: 0m 48s\n",
            "\tTrain Loss: 0.078 | Train Acc: 97.20% | LR: 0.000245\n",
            "\t Val. Loss: 0.375 |  Val. Acc: 90.76%\n",
            "Epoch: 68 | Epoch Time: 0m 47s\n",
            "\tTrain Loss: 0.076 | Train Acc: 97.37% | LR: 0.000232\n",
            "\t Val. Loss: 0.373 |  Val. Acc: 90.68%\n",
            "Epoch: 69 | Epoch Time: 0m 48s\n",
            "\tTrain Loss: 0.074 | Train Acc: 97.45% | LR: 0.000219\n",
            "\t Val. Loss: 0.385 |  Val. Acc: 89.99%\n",
            "Epoch: 70 | Epoch Time: 0m 47s\n",
            "\tTrain Loss: 0.069 | Train Acc: 97.59% | LR: 0.000206\n",
            "\t Val. Loss: 0.353 |  Val. Acc: 90.59%\n",
            "Epoch: 71 | Epoch Time: 0m 48s\n",
            "\tTrain Loss: 0.065 | Train Acc: 97.76% | LR: 0.000194\n",
            "\t Val. Loss: 0.366 |  Val. Acc: 89.91%\n",
            "Epoch: 72 | Epoch Time: 0m 46s\n",
            "\tTrain Loss: 0.060 | Train Acc: 97.91% | LR: 0.000181\n",
            "\t Val. Loss: 0.367 |  Val. Acc: 90.84%\n",
            "Epoch: 73 | Epoch Time: 0m 47s\n",
            "\tTrain Loss: 0.058 | Train Acc: 97.92% | LR: 0.000169\n",
            "\t Val. Loss: 0.367 |  Val. Acc: 90.57%\n",
            "Epoch: 74 | Epoch Time: 0m 47s\n",
            "\tTrain Loss: 0.052 | Train Acc: 98.22% | LR: 0.000158\n",
            "\t Val. Loss: 0.385 |  Val. Acc: 90.59%\n",
            "Epoch: 75 | Epoch Time: 0m 48s\n",
            "\tTrain Loss: 0.051 | Train Acc: 98.21% | LR: 0.000146\n",
            "\t Val. Loss: 0.382 |  Val. Acc: 90.59%\n",
            "Epoch: 76 | Epoch Time: 0m 47s\n",
            "\tTrain Loss: 0.047 | Train Acc: 98.40% | LR: 0.000136\n",
            "\t Val. Loss: 0.394 |  Val. Acc: 90.76%\n",
            "Epoch: 77 | Epoch Time: 0m 49s\n",
            "\tTrain Loss: 0.045 | Train Acc: 98.48% | LR: 0.000125\n",
            "\t Val. Loss: 0.381 |  Val. Acc: 90.66%\n",
            "Epoch: 78 | Epoch Time: 0m 47s\n",
            "\tTrain Loss: 0.043 | Train Acc: 98.56% | LR: 0.000115\n",
            "\t Val. Loss: 0.381 |  Val. Acc: 91.04%\n",
            "Epoch: 79 | Epoch Time: 0m 47s\n",
            "\tTrain Loss: 0.040 | Train Acc: 98.69% | LR: 0.000105\n",
            "\t Val. Loss: 0.381 |  Val. Acc: 90.53%\n",
            "Epoch: 80 | Epoch Time: 0m 46s\n",
            "\tTrain Loss: 0.038 | Train Acc: 98.74% | LR: 0.000095\n",
            "\t Val. Loss: 0.382 |  Val. Acc: 90.68%\n",
            "Epoch: 81 | Epoch Time: 0m 48s\n",
            "\tTrain Loss: 0.034 | Train Acc: 98.89% | LR: 0.000086\n",
            "\t Val. Loss: 0.388 |  Val. Acc: 90.72%\n",
            "Epoch: 82 | Epoch Time: 0m 46s\n",
            "\tTrain Loss: 0.033 | Train Acc: 98.91% | LR: 0.000078\n",
            "\t Val. Loss: 0.378 |  Val. Acc: 90.80%\n",
            "Epoch: 83 | Epoch Time: 0m 48s\n",
            "\tTrain Loss: 0.029 | Train Acc: 99.08% | LR: 0.000070\n",
            "\t Val. Loss: 0.381 |  Val. Acc: 91.24%\n",
            "Epoch: 84 | Epoch Time: 0m 47s\n",
            "\tTrain Loss: 0.028 | Train Acc: 99.10% | LR: 0.000062\n",
            "\t Val. Loss: 0.387 |  Val. Acc: 91.22%\n",
            "Epoch: 85 | Epoch Time: 0m 47s\n",
            "\tTrain Loss: 0.026 | Train Acc: 99.21% | LR: 0.000054\n",
            "\t Val. Loss: 0.390 |  Val. Acc: 91.10%\n",
            "Epoch: 86 | Epoch Time: 0m 46s\n",
            "\tTrain Loss: 0.025 | Train Acc: 99.24% | LR: 0.000048\n",
            "\t Val. Loss: 0.387 |  Val. Acc: 90.92%\n",
            "Epoch: 87 | Epoch Time: 0m 48s\n",
            "\tTrain Loss: 0.023 | Train Acc: 99.27% | LR: 0.000041\n",
            "\t Val. Loss: 0.399 |  Val. Acc: 91.18%\n",
            "Epoch: 88 | Epoch Time: 0m 46s\n",
            "\tTrain Loss: 0.021 | Train Acc: 99.34% | LR: 0.000035\n",
            "\t Val. Loss: 0.387 |  Val. Acc: 91.04%\n",
            "Epoch: 89 | Epoch Time: 0m 47s\n",
            "\tTrain Loss: 0.021 | Train Acc: 99.40% | LR: 0.000030\n",
            "\t Val. Loss: 0.405 |  Val. Acc: 91.16%\n",
            "Epoch: 90 | Epoch Time: 0m 47s\n",
            "\tTrain Loss: 0.021 | Train Acc: 99.36% | LR: 0.000024\n",
            "\t Val. Loss: 0.402 |  Val. Acc: 91.24%\n",
            "Epoch: 91 | Epoch Time: 0m 48s\n",
            "\tTrain Loss: 0.020 | Train Acc: 99.40% | LR: 0.000020\n",
            "\t Val. Loss: 0.407 |  Val. Acc: 90.96%\n",
            "Epoch: 92 | Epoch Time: 0m 46s\n",
            "\tTrain Loss: 0.018 | Train Acc: 99.51% | LR: 0.000016\n",
            "\t Val. Loss: 0.402 |  Val. Acc: 91.12%\n",
            "Epoch: 93 | Epoch Time: 0m 48s\n",
            "\tTrain Loss: 0.018 | Train Acc: 99.50% | LR: 0.000012\n",
            "\t Val. Loss: 0.405 |  Val. Acc: 91.08%\n",
            "Epoch: 94 | Epoch Time: 0m 46s\n",
            "\tTrain Loss: 0.018 | Train Acc: 99.46% | LR: 0.000009\n",
            "\t Val. Loss: 0.400 |  Val. Acc: 91.30%\n",
            "Epoch: 95 | Epoch Time: 0m 48s\n",
            "\tTrain Loss: 0.017 | Train Acc: 99.54% | LR: 0.000006\n",
            "\t Val. Loss: 0.404 |  Val. Acc: 91.14%\n",
            "Epoch: 96 | Epoch Time: 0m 47s\n",
            "\tTrain Loss: 0.016 | Train Acc: 99.57% | LR: 0.000004\n",
            "\t Val. Loss: 0.403 |  Val. Acc: 91.20%\n",
            "Epoch: 97 | Epoch Time: 0m 47s\n",
            "\tTrain Loss: 0.016 | Train Acc: 99.55% | LR: 0.000002\n",
            "\t Val. Loss: 0.407 |  Val. Acc: 90.96%\n",
            "Epoch: 98 | Epoch Time: 0m 46s\n",
            "\tTrain Loss: 0.016 | Train Acc: 99.52% | LR: 0.000001\n",
            "\t Val. Loss: 0.395 |  Val. Acc: 91.18%\n",
            "Epoch: 99 | Epoch Time: 0m 47s\n",
            "\tTrain Loss: 0.016 | Train Acc: 99.58% | LR: 0.000000\n",
            "\t Val. Loss: 0.396 |  Val. Acc: 91.04%\n",
            "Epoch: 100 | Epoch Time: 0m 47s\n",
            "\tTrain Loss: 0.017 | Train Acc: 99.55% | LR: 0.000000\n",
            "\t Val. Loss: 0.405 |  Val. Acc: 91.18%\n"
          ]
        }
      ],
      "source": [
        "num_epochs = 100\n",
        "train_acc_history = []\n",
        "train_loss_history = []\n",
        "valid_acc_history = []\n",
        "valid_loss_history = []\n",
        "lr_epoch = []\n",
        "\n",
        "criterion = nn.CrossEntropyLoss().to(device)\n",
        "optimizer = torch.optim.Adam(model.parameters(), lr=0.001, weight_decay = 0.0001)\n",
        "# optimizer = optim.SGD(model.parameters(), lr=0.1, momentum=0.9)\n",
        "scheduler = torch.optim.lr_scheduler.CosineAnnealingLR(optimizer, T_max=num_epochs)\n",
        "\n",
        "for epoch in range(num_epochs):\n",
        "\n",
        "    start_time = time.time()\n",
        "\n",
        "    train_loss, train_acc = train(model, train_iterator, optimizer, criterion, device)\n",
        "    \n",
        "    scheduler.step()\n",
        "    lr_now = lr_now = optimizer.param_groups[0]['lr']\n",
        "    lr_epoch.append(lr_now)\n",
        "\n",
        "    valid_loss, valid_acc = evaluate(model, valid_iterator, criterion, device)\n",
        "        \n",
        "    end_time = time.time()\n",
        "\n",
        "        \n",
        "    epoch_mins, epoch_secs = epoch_time(start_time, end_time)\n",
        "\n",
        "    \n",
        "    print(f'Epoch: {epoch+1:02} | Epoch Time: {epoch_mins}m {epoch_secs}s')\n",
        "    print(f'\\tTrain Loss: {train_loss:.3f} | Train Acc: {train_acc*100:.2f}% | LR: {lr_now:.6f}')\n",
        "    print(f'\\t Val. Loss: {valid_loss:.3f} |  Val. Acc: {valid_acc*100:.2f}%')\n",
        "    \n",
        "\n",
        "    train_acc_history.append(train_acc)\n",
        "    train_loss_history.append( train_loss)\n",
        "    valid_acc_history.append(valid_acc)\n",
        "    valid_loss_history.append(valid_loss)"
      ]
    },
    {
      "cell_type": "code",
      "execution_count": null,
      "metadata": {
        "colab": {
          "base_uri": "https://localhost:8080/",
          "height": 327
        },
        "id": "nfixfAJKR_4W",
        "outputId": "3002aee5-e81e-4be0-984e-747702f1f63f"
      },
      "outputs": [
        {
          "data": {
            "text/plain": [
              "<matplotlib.legend.Legend at 0x2bcf71df0>"
            ]
          },
          "execution_count": 9,
          "metadata": {},
          "output_type": "execute_result"
        },
        {
          "data": {
            "image/png": "[encoded data removed]",
            "text/plain": [
              "<Figure size 1000x300 with 2 Axes>"
            ]
          },
          "metadata": {},
          "output_type": "display_data"
        }
      ],
      "source": [
        "fig,(ax1, ax2) = plt.subplots(1, 2, figsize=(10, 3))\n",
        "\n",
        "ax1.plot(range(num_epochs), train_loss_history, '--r')\n",
        "ax1.plot(range(num_epochs), valid_loss_history, '-g')\n",
        "ax1.set_xlabel('Epochs')\n",
        "ax1.set_ylabel('Loss')\n",
        "ax1.grid()\n",
        "ax1.legend(['train', 'valid'])\n",
        "\n",
        "ax2.plot(range(num_epochs), train_acc_history, '--r')\n",
        "ax2.plot(range(num_epochs), valid_acc_history, '-g')\n",
        "ax2.set_xlabel('Epochs')\n",
        "ax2.set_ylabel('Accuracy')\n",
        "ax2.grid()\n",
        "ax2.legend(['train', 'valid'])"
      ]
    },
    {
      "cell_type": "code",
      "execution_count": null,
      "metadata": {
        "id": "hFDWNT-jR_4W"
      },
      "outputs": [],
      "source": [
        "torch.save(model, 'model.pt')"
      ]
    },
    {
      "cell_type": "code",
      "execution_count": null,
      "metadata": {
        "id": "uV15QexyR_4X"
      },
      "outputs": [],
      "source": [
        "import numpy as np \n",
        "\n",
        "np.save( 'history/train_acc_history.npy', train_acc_history)\n",
        "np.save('history/train_loss_history.npy', train_loss_history )\n",
        "np.save('history/valid_acc_history.npy', valid_acc_history )\n",
        "np.save('historyvalid_loss_history.npy', valid_loss_history)\n",
        "np.save('history/lr_per_epoch.npy', lr_epoch, )"
      ]
    },
    {
      "cell_type": "code",
      "execution_count": 11,
      "metadata": {
        "colab": {
          "base_uri": "https://localhost:8080/"
        },
        "id": "i7YtAf3iR_4X",
        "outputId": "e515e3b9-b6c1-4ca2-fa1a-1b0a7f22a904"
      },
      "outputs": [
        {
          "name": "stdout",
          "output_type": "stream",
          "text": [
            "test loss: 0.417, validation: 90.785\n"
          ]
        }
      ],
      "source": [
        "final_model = torch.load('model.pt')\n",
        "test_loss, test_accurcy = evaluate(final_model, test_iterator, criterion, device)\n",
        "print(f'test loss: {test_loss:.3f}, validation: {test_accurcy*100:.3f}')"
      ]
    }
  ],
  "metadata": {
    "accelerator": "GPU",
    "colab": {
      "provenance": []
    },
    "gpuClass": "standard",
    "kernelspec": {
      "display_name": "Python 3 (ipykernel)",
      "language": "python",
      "name": "python3"
    },
    "language_info": {
      "codemirror_mode": {
        "name": "ipython",
        "version": 3
      },
      "file_extension": ".py",
      "mimetype": "text/x-python",
      "name": "python",
      "nbconvert_exporter": "python",
      "pygments_lexer": "ipython3",
      "version": "3.9.16"
    }
  },
  "nbformat": 4,
  "nbformat_minor": 0
}
