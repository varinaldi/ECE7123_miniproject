{
 "cells": [
  {
   "cell_type": "code",
   "execution_count": 1,
   "metadata": {},
   "outputs": [
    {
     "name": "stdout",
     "output_type": "stream",
     "text": [
      "Files already downloaded and verified\n",
      "Files already downloaded and verified\n",
      "Files already downloaded and verified\n"
     ]
    }
   ],
   "source": [
    "import torch\n",
    "import torch.nn as nn\n",
    "import torch.nn.functional as F\n",
    "import torch.optim as optim\n",
    "from torch.utils.data import DataLoader\n",
    "\n",
    "import torchvision.transforms as transforms\n",
    "import torchvision.datasets as datasets\n",
    "import torch.utils.data as data\n",
    "\n",
    "from model import ResidualBlock, ResNet\n",
    "from train_eval_util import train, evaluate, calculate_accuracy, epoch_time\n",
    "from getCIFAR10 import train_data, valid_data, test_data\n",
    "\n",
    "import time"
   ]
  },
  {
   "cell_type": "code",
   "execution_count": 2,
   "metadata": {},
   "outputs": [
    {
     "name": "stdout",
     "output_type": "stream",
     "text": [
      "Selected device: mps\n"
     ]
    }
   ],
   "source": [
    "if torch.cuda.is_available():\n",
    "    device = torch.device('cuda')\n",
    "elif torch.backends.mps.is_available():\n",
    "    device = torch.device('mps')  \n",
    "else:\n",
    "    device = torch.device('cpu')\n",
    "\n",
    "print(f\"Selected device: {device}\")"
   ]
  },
  {
   "cell_type": "code",
   "execution_count": 3,
   "metadata": {},
   "outputs": [],
   "source": [
    "BATCH_SIZE = 128\n",
    "\n",
    "train_iterator = DataLoader(train_data, batch_size= BATCH_SIZE, shuffle=True)\n",
    "\n",
    "valid_iterator =  DataLoader(valid_data, batch_size=BATCH_SIZE, shuffle=False)\n",
    "\n",
    "test_iterator =  DataLoader(test_data, batch_size=BATCH_SIZE, shuffle=True)"
   ]
  },
  {
   "cell_type": "code",
   "execution_count": 4,
   "metadata": {},
   "outputs": [
    {
     "name": "stdout",
     "output_type": "stream",
     "text": [
      "Total number of layers: 20\n",
      "Total number of parameters: 272474\n"
     ]
    }
   ],
   "source": [
    "model = ResNet(ResidualBlock, [3, 3, 3]).to(device)\n",
    "\n",
    "\n",
    "total_layers = sum([1 for _ in model.modules() \n",
    "    if isinstance(_, nn.Conv2d) or isinstance(_, nn.Linear)]) - 2 # subtract input and output layers\n",
    "    \n",
    "total_params = sum(p.numel() for p in model.parameters() if p.requires_grad)\n",
    "\n",
    "print(f\"Total number of layers: {total_layers}\")\n",
    "print(f\"Total number of parameters: {total_params}\")"
   ]
  },
  {
   "cell_type": "code",
   "execution_count": 5,
   "metadata": {},
   "outputs": [],
   "source": [
    "\n",
    "criterion = nn.CrossEntropyLoss().to(device)\n",
    "optimizer = torch.optim.Adam(model.parameters(), lr=0.001)\n",
    "# optimizer = optim.SGD(model.parameters(), lr=0.1, momentum=0.9, weight_decay=5e-4)\n",
    "\n"
   ]
  },
  {
   "cell_type": "code",
   "execution_count": 6,
   "metadata": {},
   "outputs": [
    {
     "name": "stdout",
     "output_type": "stream",
     "text": [
      "Epoch: 01 | Epoch Time: 0m 46s\n",
      "\tTrain Loss: 1.553 | Train Acc: 41.98%\n",
      "\t Val. Loss: 1.369 |  Val. Acc: 50.80%\n",
      "Epoch: 02 | Epoch Time: 0m 46s\n",
      "\tTrain Loss: 1.151 | Train Acc: 58.58%\n",
      "\t Val. Loss: 1.070 |  Val. Acc: 61.70%\n",
      "Epoch: 03 | Epoch Time: 0m 46s\n",
      "\tTrain Loss: 1.000 | Train Acc: 64.17%\n",
      "\t Val. Loss: 1.026 |  Val. Acc: 62.52%\n",
      "Epoch: 04 | Epoch Time: 0m 46s\n",
      "\tTrain Loss: 0.909 | Train Acc: 67.49%\n",
      "\t Val. Loss: 1.027 |  Val. Acc: 64.61%\n",
      "Epoch: 05 | Epoch Time: 0m 46s\n",
      "\tTrain Loss: 0.849 | Train Acc: 69.77%\n",
      "\t Val. Loss: 0.858 |  Val. Acc: 69.92%\n",
      "Epoch: 06 | Epoch Time: 0m 46s\n",
      "\tTrain Loss: 0.795 | Train Acc: 71.57%\n",
      "\t Val. Loss: 1.459 |  Val. Acc: 59.79%\n",
      "Epoch: 07 | Epoch Time: 0m 46s\n",
      "\tTrain Loss: 0.749 | Train Acc: 73.62%\n",
      "\t Val. Loss: 0.940 |  Val. Acc: 67.54%\n",
      "Epoch: 08 | Epoch Time: 0m 46s\n",
      "\tTrain Loss: 0.721 | Train Acc: 74.59%\n",
      "\t Val. Loss: 0.803 |  Val. Acc: 73.28%\n",
      "Epoch: 09 | Epoch Time: 0m 46s\n",
      "\tTrain Loss: 0.688 | Train Acc: 75.87%\n",
      "\t Val. Loss: 1.192 |  Val. Acc: 64.55%\n",
      "Epoch: 10 | Epoch Time: 0m 46s\n",
      "\tTrain Loss: 0.655 | Train Acc: 77.20%\n",
      "\t Val. Loss: 0.781 |  Val. Acc: 73.22%\n",
      "Epoch: 11 | Epoch Time: 0m 46s\n",
      "\tTrain Loss: 0.632 | Train Acc: 77.90%\n",
      "\t Val. Loss: 0.902 |  Val. Acc: 70.43%\n",
      "Epoch: 12 | Epoch Time: 0m 46s\n",
      "\tTrain Loss: 0.615 | Train Acc: 78.69%\n",
      "\t Val. Loss: 0.697 |  Val. Acc: 76.86%\n",
      "Epoch: 13 | Epoch Time: 0m 46s\n",
      "\tTrain Loss: 0.596 | Train Acc: 79.42%\n",
      "\t Val. Loss: 0.785 |  Val. Acc: 73.26%\n",
      "Epoch: 14 | Epoch Time: 0m 46s\n",
      "\tTrain Loss: 0.583 | Train Acc: 79.76%\n",
      "\t Val. Loss: 0.639 |  Val. Acc: 78.93%\n",
      "Epoch: 15 | Epoch Time: 0m 46s\n",
      "\tTrain Loss: 0.562 | Train Acc: 80.47%\n",
      "\t Val. Loss: 0.786 |  Val. Acc: 73.07%\n",
      "Epoch: 16 | Epoch Time: 0m 46s\n",
      "\tTrain Loss: 0.551 | Train Acc: 80.61%\n",
      "\t Val. Loss: 0.600 |  Val. Acc: 79.92%\n",
      "Epoch: 17 | Epoch Time: 0m 46s\n",
      "\tTrain Loss: 0.532 | Train Acc: 81.38%\n",
      "\t Val. Loss: 0.638 |  Val. Acc: 78.20%\n",
      "Epoch: 18 | Epoch Time: 0m 46s\n",
      "\tTrain Loss: 0.521 | Train Acc: 81.69%\n",
      "\t Val. Loss: 0.689 |  Val. Acc: 77.05%\n",
      "Epoch: 19 | Epoch Time: 0m 46s\n",
      "\tTrain Loss: 0.505 | Train Acc: 82.35%\n",
      "\t Val. Loss: 0.617 |  Val. Acc: 79.67%\n",
      "Epoch: 20 | Epoch Time: 0m 46s\n",
      "\tTrain Loss: 0.498 | Train Acc: 82.72%\n",
      "\t Val. Loss: 0.532 |  Val. Acc: 81.72%\n",
      "Epoch: 21 | Epoch Time: 0m 47s\n",
      "\tTrain Loss: 0.486 | Train Acc: 83.14%\n",
      "\t Val. Loss: 0.615 |  Val. Acc: 79.98%\n",
      "Epoch: 22 | Epoch Time: 0m 47s\n",
      "\tTrain Loss: 0.474 | Train Acc: 83.46%\n",
      "\t Val. Loss: 0.594 |  Val. Acc: 79.65%\n"
     ]
    }
   ],
   "source": [
    "num_epochs = 100\n",
    "train_acc_history = []\n",
    "train_loss_history = []\n",
    "valid_acc_history = []\n",
    "valid_loss_history = []\n",
    "\n",
    "for epoch in range(num_epochs):\n",
    "\n",
    "    start_time = time.time()\n",
    "    \n",
    "    train_loss, train_acc = train(model, train_iterator, optimizer, criterion, device)\n",
    "    valid_loss, valid_acc = evaluate(model, valid_iterator, criterion, device)\n",
    "        \n",
    "    end_time = time.time()\n",
    "\n",
    "        \n",
    "    epoch_mins, epoch_secs = epoch_time(start_time, end_time)\n",
    "\n",
    "    \n",
    "    print(f'Epoch: {epoch+1:02} | Epoch Time: {epoch_mins}m {epoch_secs}s')\n",
    "    print(f'\\tTrain Loss: {train_loss:.3f} | Train Acc: {train_acc*100:.2f}%')\n",
    "    print(f'\\t Val. Loss: {valid_loss:.3f} |  Val. Acc: {valid_acc*100:.2f}%')\n",
    "\n",
    "    train_acc_history.append(train_acc)\n",
    "    train_loss_history.append( train_loss)\n",
    "    valid_acc_history.append(valid_acc)\n",
    "    valid_loss_history.append(valid_loss)"
   ]
  }
 ],
 "metadata": {
  "accelerator": "GPU",
  "colab": {
   "name": "hw3prob5.ipynb",
   "provenance": []
  },
  "kernelspec": {
   "display_name": "Python 3 (ipykernel)",
   "language": "python",
   "name": "python3"
  },
  "language_info": {
   "codemirror_mode": {
    "name": "ipython",
    "version": 3
   },
   "file_extension": ".py",
   "mimetype": "text/x-python",
   "name": "python",
   "nbconvert_exporter": "python",
   "pygments_lexer": "ipython3",
   "version": "3.8.16"
  }
 },
 "nbformat": 4,
 "nbformat_minor": 1
}
