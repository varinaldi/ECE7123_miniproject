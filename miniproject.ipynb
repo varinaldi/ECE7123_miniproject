{
 "cells": [
  {
   "cell_type": "code",
   "execution_count": 1,
   "metadata": {},
   "outputs": [
    {
     "name": "stdout",
     "output_type": "stream",
     "text": [
      "Files already downloaded and verified\n",
      "Files already downloaded and verified\n",
      "Files already downloaded and verified\n"
     ]
    }
   ],
   "source": [
    "import torch\n",
    "import torch.nn as nn\n",
    "import torch.nn.functional as F\n",
    "import torch.optim as optim\n",
    "from torch.utils.data import DataLoader\n",
    "\n",
    "from torchsummary import summary\n",
    "\n",
    "import torchvision.transforms as transforms\n",
    "import torchvision.datasets as datasets\n",
    "import torch.utils.data as data\n",
    "\n",
    "from model_dropout import ResidualBlock, ResNet\n",
    "from train_eval_util import train, evaluate, calculate_accuracy, epoch_time, total_layers, total_params\n",
    "from getCIFAR10 import train_data, valid_data, test_data\n",
    "\n",
    "import time"
   ]
  },
  {
   "cell_type": "code",
   "execution_count": 2,
   "metadata": {},
   "outputs": [
    {
     "name": "stdout",
     "output_type": "stream",
     "text": [
      "Selected device: mps\n"
     ]
    }
   ],
   "source": [
    "if torch.cuda.is_available():\n",
    "    device = torch.device('cuda')\n",
    "elif torch.backends.mps.is_available():\n",
    "    device = torch.device('mps')  \n",
    "else:\n",
    "    device = torch.device('cpu')\n",
    "\n",
    "print(f\"Selected device: {device}\")"
   ]
  },
  {
   "cell_type": "code",
   "execution_count": 3,
   "metadata": {},
   "outputs": [],
   "source": [
    "BATCH_SIZE = 128\n",
    "\n",
    "train_iterator = DataLoader(train_data, batch_size= BATCH_SIZE, shuffle=True)\n",
    "valid_iterator =  DataLoader(valid_data, batch_size=BATCH_SIZE, shuffle=False)\n",
    "test_iterator =  DataLoader(test_data, batch_size=BATCH_SIZE, shuffle=True)"
   ]
  },
  {
   "cell_type": "code",
   "execution_count": 4,
   "metadata": {},
   "outputs": [
    {
     "name": "stdout",
     "output_type": "stream",
     "text": [
      "Total number of layers: 18\n",
      "Total number of parameters: 2797610\n",
      "=================================================================\n",
      "Layer (type:depth-idx)                   Param #\n",
      "=================================================================\n",
      "├─Conv2d: 1-1                            864\n",
      "├─BatchNorm2d: 1-2                       64\n",
      "├─Sequential: 1-3                        --\n",
      "|    └─ResidualBlock: 2-1                --\n",
      "|    |    └─Conv2d: 3-1                  9,216\n",
      "|    |    └─BatchNorm2d: 3-2             64\n",
      "|    |    └─Conv2d: 3-3                  9,216\n",
      "|    |    └─BatchNorm2d: 3-4             64\n",
      "|    |    └─Dropout: 3-5                 --\n",
      "|    |    └─Sequential: 3-6              --\n",
      "|    └─ResidualBlock: 2-2                --\n",
      "|    |    └─Conv2d: 3-7                  9,216\n",
      "|    |    └─BatchNorm2d: 3-8             64\n",
      "|    |    └─Conv2d: 3-9                  9,216\n",
      "|    |    └─BatchNorm2d: 3-10            64\n",
      "|    |    └─Dropout: 3-11                --\n",
      "|    |    └─Sequential: 3-12             --\n",
      "├─Sequential: 1-4                        --\n",
      "|    └─ResidualBlock: 2-3                --\n",
      "|    |    └─Conv2d: 3-13                 18,432\n",
      "|    |    └─BatchNorm2d: 3-14            128\n",
      "|    |    └─Conv2d: 3-15                 36,864\n",
      "|    |    └─BatchNorm2d: 3-16            128\n",
      "|    |    └─Dropout: 3-17                --\n",
      "|    |    └─Sequential: 3-18             2,176\n",
      "|    └─ResidualBlock: 2-4                --\n",
      "|    |    └─Conv2d: 3-19                 36,864\n",
      "|    |    └─BatchNorm2d: 3-20            128\n",
      "|    |    └─Conv2d: 3-21                 36,864\n",
      "|    |    └─BatchNorm2d: 3-22            128\n",
      "|    |    └─Dropout: 3-23                --\n",
      "|    |    └─Sequential: 3-24             --\n",
      "├─Sequential: 1-5                        --\n",
      "|    └─ResidualBlock: 2-5                --\n",
      "|    |    └─Conv2d: 3-25                 73,728\n",
      "|    |    └─BatchNorm2d: 3-26            256\n",
      "|    |    └─Conv2d: 3-27                 147,456\n",
      "|    |    └─BatchNorm2d: 3-28            256\n",
      "|    |    └─Dropout: 3-29                --\n",
      "|    |    └─Sequential: 3-30             8,448\n",
      "|    └─ResidualBlock: 2-6                --\n",
      "|    |    └─Conv2d: 3-31                 147,456\n",
      "|    |    └─BatchNorm2d: 3-32            256\n",
      "|    |    └─Conv2d: 3-33                 147,456\n",
      "|    |    └─BatchNorm2d: 3-34            256\n",
      "|    |    └─Dropout: 3-35                --\n",
      "|    |    └─Sequential: 3-36             --\n",
      "├─Sequential: 1-6                        --\n",
      "|    └─ResidualBlock: 2-7                --\n",
      "|    |    └─Conv2d: 3-37                 294,912\n",
      "|    |    └─BatchNorm2d: 3-38            512\n",
      "|    |    └─Conv2d: 3-39                 589,824\n",
      "|    |    └─BatchNorm2d: 3-40            512\n",
      "|    |    └─Dropout: 3-41                --\n",
      "|    |    └─Sequential: 3-42             33,280\n",
      "|    └─ResidualBlock: 2-8                --\n",
      "|    |    └─Conv2d: 3-43                 589,824\n",
      "|    |    └─BatchNorm2d: 3-44            512\n",
      "|    |    └─Conv2d: 3-45                 589,824\n",
      "|    |    └─BatchNorm2d: 3-46            512\n",
      "|    |    └─Dropout: 3-47                --\n",
      "|    |    └─Sequential: 3-48             --\n",
      "├─AdaptiveAvgPool2d: 1-7                 --\n",
      "├─Linear: 1-8                            2,570\n",
      "=================================================================\n",
      "Total params: 2,797,610\n",
      "Trainable params: 2,797,610\n",
      "Non-trainable params: 0\n",
      "=================================================================\n"
     ]
    },
    {
     "data": {
      "text/plain": [
       "=================================================================\n",
       "Layer (type:depth-idx)                   Param #\n",
       "=================================================================\n",
       "├─Conv2d: 1-1                            864\n",
       "├─BatchNorm2d: 1-2                       64\n",
       "├─Sequential: 1-3                        --\n",
       "|    └─ResidualBlock: 2-1                --\n",
       "|    |    └─Conv2d: 3-1                  9,216\n",
       "|    |    └─BatchNorm2d: 3-2             64\n",
       "|    |    └─Conv2d: 3-3                  9,216\n",
       "|    |    └─BatchNorm2d: 3-4             64\n",
       "|    |    └─Dropout: 3-5                 --\n",
       "|    |    └─Sequential: 3-6              --\n",
       "|    └─ResidualBlock: 2-2                --\n",
       "|    |    └─Conv2d: 3-7                  9,216\n",
       "|    |    └─BatchNorm2d: 3-8             64\n",
       "|    |    └─Conv2d: 3-9                  9,216\n",
       "|    |    └─BatchNorm2d: 3-10            64\n",
       "|    |    └─Dropout: 3-11                --\n",
       "|    |    └─Sequential: 3-12             --\n",
       "├─Sequential: 1-4                        --\n",
       "|    └─ResidualBlock: 2-3                --\n",
       "|    |    └─Conv2d: 3-13                 18,432\n",
       "|    |    └─BatchNorm2d: 3-14            128\n",
       "|    |    └─Conv2d: 3-15                 36,864\n",
       "|    |    └─BatchNorm2d: 3-16            128\n",
       "|    |    └─Dropout: 3-17                --\n",
       "|    |    └─Sequential: 3-18             2,176\n",
       "|    └─ResidualBlock: 2-4                --\n",
       "|    |    └─Conv2d: 3-19                 36,864\n",
       "|    |    └─BatchNorm2d: 3-20            128\n",
       "|    |    └─Conv2d: 3-21                 36,864\n",
       "|    |    └─BatchNorm2d: 3-22            128\n",
       "|    |    └─Dropout: 3-23                --\n",
       "|    |    └─Sequential: 3-24             --\n",
       "├─Sequential: 1-5                        --\n",
       "|    └─ResidualBlock: 2-5                --\n",
       "|    |    └─Conv2d: 3-25                 73,728\n",
       "|    |    └─BatchNorm2d: 3-26            256\n",
       "|    |    └─Conv2d: 3-27                 147,456\n",
       "|    |    └─BatchNorm2d: 3-28            256\n",
       "|    |    └─Dropout: 3-29                --\n",
       "|    |    └─Sequential: 3-30             8,448\n",
       "|    └─ResidualBlock: 2-6                --\n",
       "|    |    └─Conv2d: 3-31                 147,456\n",
       "|    |    └─BatchNorm2d: 3-32            256\n",
       "|    |    └─Conv2d: 3-33                 147,456\n",
       "|    |    └─BatchNorm2d: 3-34            256\n",
       "|    |    └─Dropout: 3-35                --\n",
       "|    |    └─Sequential: 3-36             --\n",
       "├─Sequential: 1-6                        --\n",
       "|    └─ResidualBlock: 2-7                --\n",
       "|    |    └─Conv2d: 3-37                 294,912\n",
       "|    |    └─BatchNorm2d: 3-38            512\n",
       "|    |    └─Conv2d: 3-39                 589,824\n",
       "|    |    └─BatchNorm2d: 3-40            512\n",
       "|    |    └─Dropout: 3-41                --\n",
       "|    |    └─Sequential: 3-42             33,280\n",
       "|    └─ResidualBlock: 2-8                --\n",
       "|    |    └─Conv2d: 3-43                 589,824\n",
       "|    |    └─BatchNorm2d: 3-44            512\n",
       "|    |    └─Conv2d: 3-45                 589,824\n",
       "|    |    └─BatchNorm2d: 3-46            512\n",
       "|    |    └─Dropout: 3-47                --\n",
       "|    |    └─Sequential: 3-48             --\n",
       "├─AdaptiveAvgPool2d: 1-7                 --\n",
       "├─Linear: 1-8                            2,570\n",
       "=================================================================\n",
       "Total params: 2,797,610\n",
       "Trainable params: 2,797,610\n",
       "Non-trainable params: 0\n",
       "================================================================="
      ]
     },
     "execution_count": 4,
     "metadata": {},
     "output_type": "execute_result"
    }
   ],
   "source": [
    "model = ResNet(ResidualBlock, [2, 2, 2, 2], dropout_rate=0.5).to(device)\n",
    "\n",
    "print(f\"Total number of layers: {total_layers(model)}\")\n",
    "print(f\"Total number of parameters: {total_params(model)}\")\n",
    "\n",
    "summary(model)\n"
   ]
  },
  {
   "cell_type": "code",
   "execution_count": 6,
   "metadata": {},
   "outputs": [],
   "source": [
    "criterion = nn.CrossEntropyLoss().to(device)\n",
    "optimizer = torch.optim.Adam(model.parameters(), lr=1e-3)\n",
    "# optimizer = optim.SGD(model.parameters(), lr=0.1, momentum=0.9, weight_decay=5e-4)\n"
   ]
  },
  {
   "cell_type": "code",
   "execution_count": 7,
   "metadata": {},
   "outputs": [
    {
     "ename": "",
     "evalue": "",
     "output_type": "error",
     "traceback": [
      "\u001b[1;31mCanceled future for execute_request message before replies were done"
     ]
    },
    {
     "ename": "",
     "evalue": "",
     "output_type": "error",
     "traceback": [
      "\u001b[1;31mThe Kernel crashed while executing code in the the current cell or a previous cell. Please review the code in the cell(s) to identify a possible cause of the failure. Click <a href='https://aka.ms/vscodeJupyterKernelCrash'>here</a> for more info. View Jupyter <a href='command:jupyter.viewOutput'>log</a> for further details."
     ]
    }
   ],
   "source": [
    "num_epochs = 150\n",
    "train_acc_history = []\n",
    "train_loss_history = []\n",
    "valid_acc_history = []\n",
    "valid_loss_history = []\n",
    "\n",
    "for epoch in range(num_epochs):\n",
    "\n",
    "    start_time = time.time()\n",
    "    \n",
    "    train_loss, train_acc = train(model, train_iterator, optimizer, criterion, device)\n",
    "    valid_loss, valid_acc = evaluate(model, valid_iterator, criterion, device)\n",
    "        \n",
    "    end_time = time.time()\n",
    "\n",
    "        \n",
    "    epoch_mins, epoch_secs = epoch_time(start_time, end_time)\n",
    "\n",
    "    \n",
    "    print(f'Epoch: {epoch+1:02} | Epoch Time: {epoch_mins}m {epoch_secs}s')\n",
    "    print(f'\\tTrain Loss: {train_loss:.3f} | Train Acc: {train_acc*100:.2f}%')\n",
    "    print(f'\\t Val. Loss: {valid_loss:.3f} |  Val. Acc: {valid_acc*100:.2f}%')\n",
    "\n",
    "    train_acc_history.append(train_acc)\n",
    "    train_loss_history.append( train_loss)\n",
    "    valid_acc_history.append(valid_acc)\n",
    "    valid_loss_history.append(valid_loss)"
   ]
  },
  {
   "cell_type": "code",
   "execution_count": null,
   "metadata": {},
   "outputs": [],
   "source": [
    "fig,(ax1, ax2) = plt.subplots(1, 2, figsize=(10, 3))\n",
    "\n",
    "ax1.plot(range(num_epochs), train_loss_history, '--r')\n",
    "ax1.plot(range(num_epochs), valid_loss_history, '-g')\n",
    "ax1.set_xlabel('Epochs')\n",
    "ax1.set_ylabel('Loss')\n",
    "ax1.legend(['train', 'valid'])\n",
    "\n",
    "ax2.plot(range(num_epochs), train_acc_history, '--r')\n",
    "ax2.plot(range(num_epochs), valid_acc_history, '-g')\n",
    "ax2.set_xlabel('Epochs')\n",
    "ax2.set_xlabel('Accuracy')\n",
    "ax1.legend(['train', 'valid'])"
   ]
  }
 ],
 "metadata": {
  "accelerator": "GPU",
  "colab": {
   "name": "hw3prob5.ipynb",
   "provenance": []
  },
  "kernelspec": {
   "display_name": "torchomp",
   "language": "python",
   "name": "python3"
  },
  "language_info": {
   "codemirror_mode": {
    "name": "ipython",
    "version": 3
   },
   "file_extension": ".py",
   "mimetype": "text/x-python",
   "name": "python",
   "nbconvert_exporter": "python",
   "pygments_lexer": "ipython3",
   "version": "3.9.16"
  },
  "vscode": {
   "interpreter": {
    "hash": "a6939c3b1567b9c82f6c9ce7c01d55f9a24b9d2e3e56903ee97edddf103a49ed"
   }
  }
 },
 "nbformat": 4,
 "nbformat_minor": 1
}
